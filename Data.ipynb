{
 "cells": [
  {
   "cell_type": "code",
   "execution_count": 1,
   "metadata": {},
   "outputs": [],
   "source": [
    "import pandas"
   ]
  },
  {
   "cell_type": "code",
   "execution_count": 2,
   "metadata": {},
   "outputs": [],
   "source": [
    "a = {\n",
    "    \"id\": 1,\n",
    "    \"name\": \"alex\",\n",
    "    \"age\": 3.5\n",
    "}"
   ]
  },
  {
   "cell_type": "code",
   "execution_count": 3,
   "metadata": {},
   "outputs": [
    {
     "name": "stdout",
     "output_type": "stream",
     "text": [
      "<class 'dict'>\n"
     ]
    }
   ],
   "source": [
    "print(type(a))"
   ]
  },
  {
   "cell_type": "code",
   "execution_count": 14,
   "metadata": {},
   "outputs": [
    {
     "name": "stdout",
     "output_type": "stream",
     "text": [
      "{'id': [1, 2, 3, 4, 5, 6], 'name': ['shahzad', 'gul', 'junaid', 'asif', 'kashif', None], 'age': [32, 30, 34, 40, 19, None]}\n"
     ]
    }
   ],
   "source": [
    "import pandas as pd  # Import pandas\n",
    "\n",
    "# Corrected dictionary with commas\n",
    "users = {\n",
    "    'id': [1, 2, 3, 4, 5, 6],\n",
    "    'name': [\"shahzad\", \"gul\", \"junaid\", \"asif\", \"kashif\", None],  # Added None for length consistency\n",
    "    'age': [32, 30, 34, 40, 19, None]  # Added None for length consistency\n",
    "}\n",
    "\n",
    "# Print the dictionary\n",
    "print(users)\n",
    "\n",
    "# Create a DataFrame from the dictionary\n",
    "user_df = pd.DataFrame(users)\n",
    "\n",
    "# Write the DataFrame to a CSV file\n",
    "user_df.to_csv('df.csv', index=False,)"
   ]
  },
  {
   "cell_type": "code",
   "execution_count": 15,
   "metadata": {},
   "outputs": [],
   "source": [
    "import pandas\n",
    "# Create a data frame.\n",
    "users = {'id': [1, 2, 3], 'name': ['John', 'San', 'Mary'], 'age': [35, 30, 31]}\n",
    "users_df = pandas.DataFrame(users )\n",
    "\n",
    " # Write to an XML file\n",
    "users_df.to_xml('output_users.xml', index=False)\n",
    "             "
   ]
  },
  {
   "cell_type": "code",
   "execution_count": 3,
   "metadata": {},
   "outputs": [
    {
     "name": "stdout",
     "output_type": "stream",
     "text": [
      "C:/Users/Student/Desktop/pandas2.csv\n"
     ]
    }
   ],
   "source": [
    "import pandas as pd  # Use alias for pandas\n",
    "\n",
    "try:\n",
    "    # Read the JSON file (change lines=True based on your JSON structure)\n",
    "    user_df = pd.read_json('users.json', lines=True)  # Use lines=True only if needed\n",
    "              \n",
    "    # Print the contents of the JSON file\n",
    "    print(user_df)\n",
    "\n",
    "except FileNotFoundError:\n",
    "    print('C:/Users/Student/Desktop/pandas2.csv')\n",
    "except ValueError as ve:\n",
    "    print(f\"Error reading the JSON file: {ve}\")\n",
    "except Exception as e:\n",
    "    print(f\"An error occurred: {e}\")\n",
    "    "
   ]
  },
  {
   "cell_type": "code",
   "execution_count": 5,
   "metadata": {},
   "outputs": [],
   "source": [
    "import pandas\n",
    "\n",
    "# Create a data frame.\n",
    "users = {'id': [1, 2, 3], 'name': ['John', 'San', 'Mary'], 'age': [35, 30, 31]}\n",
    "users_df = pandas.DataFrame(users )\n",
    "\n",
    "# Write to an XML file\n",
    "users_df.to_xml('output_users.xml', index=False)\n",
    "             \n"
   ]
  },
  {
   "cell_type": "code",
   "execution_count": 9,
   "metadata": {},
   "outputs": [
    {
     "name": "stdout",
     "output_type": "stream",
     "text": [
      "   id  name  gender\n",
      "0  10  John    male\n",
      "1  20  Mary  female\n"
     ]
    }
   ],
   "source": [
    "\n",
    "import pandas as pd\n",
    "import xml.etree.ElementTree as ET\n",
    "\n",
    "# Define the XML data\n",
    "xml_data = '''<root>\n",
    "                <student gender=\"male\">\n",
    "                  <id>10</id>\n",
    "                  <name>John</name>\n",
    "                </student>\n",
    "                <student gender=\"female\">\n",
    "                  <id>20</id>\n",
    "                  <name>Mary</name>\n",
    "                </student>\n",
    "              </root>'''\n",
    "\n",
    "# Parse the XML data\n",
    "root = ET.fromstring(xml_data)\n",
    "\n",
    "# Extract student data\n",
    "students = []\n",
    "for student in root.findall('student'):\n",
    "    student_info = {\n",
    "        'id': student.find('id').text,\n",
    "        'name': student.find('name').text,\n",
    "        'gender': student.get('gender')  # Get the gender attribute\n",
    "    }\n",
    "    students.append(student_info)\n",
    "\n",
    "# Create a DataFrame from the extracted data\n",
    "student_df = pd.DataFrame(students)\n",
    "\n",
    "# Print the DataFrame\n",
    "print(student_df)"
   ]
  }
 ],
 "metadata": {
  "kernelspec": {
   "display_name": "Python 3",
   "language": "python",
   "name": "python3"
  },
  "language_info": {
   "codemirror_mode": {
    "name": "ipython",
    "version": 3
   },
   "file_extension": ".py",
   "mimetype": "text/x-python",
   "name": "python",
   "nbconvert_exporter": "python",
   "pygments_lexer": "ipython3",
   "version": "3.12.3"
  }
 },
 "nbformat": 4,
 "nbformat_minor": 2
}
